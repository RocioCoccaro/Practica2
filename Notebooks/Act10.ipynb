{
 "cells": [
  {
   "cell_type": "code",
   "execution_count": null,
   "metadata": {
    "vscode": {
     "languageId": "plaintext"
    }
   },
   "outputs": [],
   "source": [
    "import sys\n",
    "import os\n",
    "\n",
    "sys.path.append(os.path.abspath(\"../src\"))"
   ]
  },
  {
   "cell_type": "code",
   "execution_count": null,
   "metadata": {
    "vscode": {
     "languageId": "plaintext"
    }
   },
   "outputs": [],
   "source": [
    "\n",
    "#importamos tres funciones dentro de la carpeta src\n",
    "from funciones import calcular_puntos, determinar_mvp, mostrar_ranking\n",
    "\n",
    "# Datos de las rondas (estan indicadas en el enunciado)\n",
    "#Rondas es una lista de diccionarios, donde cada diccionario representa una ronda\n",
    "rondas = [\n",
    "    {\n",
    "        'Shadow': {'kills': 2, 'assists': 1, 'deaths': True},\n",
    "        'Blaze': {'kills': 1, 'assists': 0, 'deaths': False},\n",
    "        'Viper': {'kills': 1, 'assists': 2, 'deaths': True},\n",
    "        'Frost': {'kills': 0, 'assists': 1, 'deaths': False},\n",
    "        'Reaper': {'kills': 1, 'assists': 1, 'deaths': False}\n",
    "    },\n",
    "    {\n",
    "        'Shadow': {'kills': 0, 'assists': 2, 'deaths': False},\n",
    "        'Blaze': {'kills': 2, 'assists': 0, 'deaths': True},\n",
    "        'Viper': {'kills': 1, 'assists': 1, 'deaths': False},\n",
    "        'Frost': {'kills': 2, 'assists': 1, 'deaths': True},\n",
    "        'Reaper': {'kills': 0, 'assists': 1, 'deaths': False}\n",
    "    },\n",
    "    {\n",
    "        'Shadow': {'kills': 1, 'assists': 0, 'deaths': False},\n",
    "        'Blaze': {'kills': 2, 'assists': 2, 'deaths': True},\n",
    "        'Viper': {'kills': 1, 'assists': 1, 'deaths': True},\n",
    "        'Frost': {'kills': 0, 'assists': 1, 'deaths': False},\n",
    "        'Reaper': {'kills': 1, 'assists': 1, 'deaths': False}\n",
    "    },\n",
    "    {\n",
    "        'Shadow': {'kills': 2, 'assists': 1, 'deaths': False},\n",
    "        'Blaze': {'kills': 1, 'assists': 0, 'deaths': True},\n",
    "        'Viper': {'kills': 0, 'assists': 2, 'deaths': False},\n",
    "        'Frost': {'kills': 1, 'assists': 1, 'deaths': True},\n",
    "        'Reaper': {'kills': 1, 'assists': 1, 'deaths': False}\n",
    "    },\n",
    "    {\n",
    "        'Shadow': {'kills': 1, 'assists': 2, 'deaths': True},\n",
    "        'Blaze': {'kills': 0, 'assists': 1, 'deaths': False},\n",
    "        'Viper': {'kills': 2, 'assists': 0, 'deaths': True},\n",
    "        'Frost': {'kills': 1, 'assists': 1, 'deaths': False},\n",
    "        'Reaper': {'kills': 1, 'assists': 1, 'deaths': True}\n",
    "    }\n",
    "]\n",
    "\n",
    "jugadores = {}  #Diccionario que se ira actualizando en cada ronda con las estadisticas de cada jugador\n",
    "\n",
    "for i, ronda in enumerate(rondas, start=1): #en cada iteracion, i sera el numero de la ronda y ronda sera el diccionario de la ronda\n",
    "    print(f\"\\n🔹 Ronda {i}:\")\n",
    "    for jugador, stats in ronda.items():        #el for recorre cada jugador y sus estadisticas dentro de la ronda\n",
    "\n",
    "        if jugador not in jugadores:            #si el jugador no esta dentro de los jugadores, lo agrega con valor cero\n",
    "            jugadores[jugador] = {'kills': 0, 'assists': 0, 'deaths': 0, 'mvp': 0, 'puntos': 0}\n",
    "        # Sumar estadísticas\n",
    "        jugadores[jugador]['kills'] += stats['kills']\n",
    "        jugadores[jugador]['assists'] += stats['assists']\n",
    "        jugadores[jugador]['deaths'] += 1 if stats['deaths'] else 0\n",
    "        jugadores[jugador]['puntos'] += calcular_puntos(stats)\n",
    "\n",
    "    # Determinar MVP de la ronda\n",
    "    mvp = determinar_mvp(ronda)\n",
    "    jugadores[mvp]['mvp'] += 1  # Aumentar su contador de MVPs\n",
    "    \n",
    "    print(f\"🏅 Mejor jugador de la ronda: {mvp}\")\n",
    "    \n",
    "\n",
    "    # Mostrar ranking actual\n",
    "    mostrar_ranking(jugadores)\n",
    "\n",
    "\n",
    "# Mostrar ranking final\n",
    "print(\"\\n🏆 RANKING FINAL 🏆\")\n",
    "mostrar_ranking(jugadores)   \n"
   ]
  }
 ],
 "metadata": {
  "language_info": {
   "name": "python"
  }
 },
 "nbformat": 4,
 "nbformat_minor": 2
}
